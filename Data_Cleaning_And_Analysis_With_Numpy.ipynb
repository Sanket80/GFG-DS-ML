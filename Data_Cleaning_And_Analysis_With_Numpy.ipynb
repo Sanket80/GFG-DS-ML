{
  "nbformat": 4,
  "nbformat_minor": 0,
  "metadata": {
    "colab": {
      "provenance": [],
      "authorship_tag": "ABX9TyNQa9gQmsJZWhDIgoYqSDPg",
      "include_colab_link": true
    },
    "kernelspec": {
      "name": "python3",
      "display_name": "Python 3"
    },
    "language_info": {
      "name": "python"
    }
  },
  "cells": [
    {
      "cell_type": "markdown",
      "metadata": {
        "id": "view-in-github",
        "colab_type": "text"
      },
      "source": [
        "<a href=\"https://colab.research.google.com/github/Sanket80/GFG-DS-ML/blob/main/Data_Cleaning_And_Analysis_With_Numpy.ipynb\" target=\"_parent\"><img src=\"https://colab.research.google.com/assets/colab-badge.svg\" alt=\"Open In Colab\"/></a>"
      ]
    },
    {
      "cell_type": "code",
      "execution_count": 1,
      "metadata": {
        "id": "1ITHkEtGXzJm"
      },
      "outputs": [],
      "source": [
        "import numpy as np"
      ]
    },
    {
      "cell_type": "markdown",
      "source": [
        "## Dealing with Null Values"
      ],
      "metadata": {
        "id": "wf5FHVpkYEA2"
      }
    },
    {
      "cell_type": "markdown",
      "source": [
        "### 1. None to np.nan"
      ],
      "metadata": {
        "id": "AVTYWQ0CYK_e"
      }
    },
    {
      "cell_type": "code",
      "source": [
        "arr = np.array([1, 2, None, 4, 5,None])\n",
        "arr\n",
        "\n",
        "arr[arr == None] = np.nan\n",
        "arr"
      ],
      "metadata": {
        "colab": {
          "base_uri": "https://localhost:8080/"
        },
        "id": "uTHSOqk5YDQB",
        "outputId": "45fe3f1e-2643-4952-a4b8-6302024c2bfb"
      },
      "execution_count": 3,
      "outputs": [
        {
          "output_type": "execute_result",
          "data": {
            "text/plain": [
              "array([1, 2, nan, 4, 5, nan], dtype=object)"
            ]
          },
          "metadata": {},
          "execution_count": 3
        }
      ]
    },
    {
      "cell_type": "markdown",
      "source": [
        "### 2. Checking the Null Values"
      ],
      "metadata": {
        "id": "wWOCUVy-Y90l"
      }
    },
    {
      "cell_type": "code",
      "source": [
        "arr = np.array([1, 2, np.nan, 4, 5,np.nan])\n",
        "arr\n",
        "\n",
        "arr[np.isnan(arr)]"
      ],
      "metadata": {
        "colab": {
          "base_uri": "https://localhost:8080/"
        },
        "id": "j6fCBERUYTB2",
        "outputId": "b1982021-5175-4227-9559-0789c8b456ff"
      },
      "execution_count": 6,
      "outputs": [
        {
          "output_type": "execute_result",
          "data": {
            "text/plain": [
              "array([nan, nan])"
            ]
          },
          "metadata": {},
          "execution_count": 6
        }
      ]
    },
    {
      "cell_type": "markdown",
      "source": [
        "### 3. Removing the Null Values"
      ],
      "metadata": {
        "id": "mTUhJsDHZO3U"
      }
    },
    {
      "cell_type": "code",
      "source": [
        "arr = np.array([1, 2, np.nan, 4, 5,np.nan])\n",
        "arr\n",
        "\n",
        "arr[~np.isnan(arr)]"
      ],
      "metadata": {
        "colab": {
          "base_uri": "https://localhost:8080/"
        },
        "id": "mtnBOjBwZE39",
        "outputId": "f3d7a188-95f4-4808-ef64-39a2e0959a7d"
      },
      "execution_count": 7,
      "outputs": [
        {
          "output_type": "execute_result",
          "data": {
            "text/plain": [
              "array([1., 2., 4., 5.])"
            ]
          },
          "metadata": {},
          "execution_count": 7
        }
      ]
    },
    {
      "cell_type": "markdown",
      "source": [
        "### 4. Filling Null with Fixed Values"
      ],
      "metadata": {
        "id": "OguPcOqCZg1p"
      }
    },
    {
      "cell_type": "code",
      "source": [
        "arr = np.array([1, 2, np.nan, 4, 5,np.nan])\n",
        "arr\n",
        "\n",
        "arr[np.isnan(arr)] = 0\n",
        "print(arr)"
      ],
      "metadata": {
        "colab": {
          "base_uri": "https://localhost:8080/"
        },
        "id": "NzY8_su1Zdvu",
        "outputId": "12c727f5-fbac-4630-800d-d5d7b2322a92"
      },
      "execution_count": 10,
      "outputs": [
        {
          "output_type": "stream",
          "name": "stdout",
          "text": [
            "[1. 2. 0. 4. 5. 0.]\n"
          ]
        }
      ]
    },
    {
      "cell_type": "markdown",
      "source": [
        "### 5. Filling the null with Average"
      ],
      "metadata": {
        "id": "tGNUYcAEZvL9"
      }
    },
    {
      "cell_type": "code",
      "source": [
        "arr = np.array([1, 2, np.nan, 4, 5,np.nan])\n",
        "arr\n",
        "\n",
        "arr[np.isnan(arr)] = np.nanmean(arr)\n",
        "print(arr)"
      ],
      "metadata": {
        "colab": {
          "base_uri": "https://localhost:8080/"
        },
        "id": "eteh9AZ6Zp5A",
        "outputId": "0bd04dbb-b459-4d58-b567-32ac392b914f"
      },
      "execution_count": 12,
      "outputs": [
        {
          "output_type": "stream",
          "name": "stdout",
          "text": [
            "[1. 2. 3. 4. 5. 3.]\n"
          ]
        }
      ]
    },
    {
      "cell_type": "markdown",
      "source": [
        "## Filtering and Aggregating data With Numpy"
      ],
      "metadata": {
        "id": "1pn4mBAea-mt"
      }
    },
    {
      "cell_type": "markdown",
      "source": [
        "### 1. Filtering"
      ],
      "metadata": {
        "id": "nVHDS1DxbGwP"
      }
    },
    {
      "cell_type": "markdown",
      "source": [
        "#### 1.1) Filter Elements Greater than 5"
      ],
      "metadata": {
        "id": "y5JXOF8ubnww"
      }
    },
    {
      "cell_type": "code",
      "source": [
        "arr = np.random.randint(1,11,size=(5,5))\n",
        "arr"
      ],
      "metadata": {
        "colab": {
          "base_uri": "https://localhost:8080/"
        },
        "id": "vQck3eK6bEqm",
        "outputId": "cc90b173-d061-4f66-ef26-3b1cf6ca3567"
      },
      "execution_count": 22,
      "outputs": [
        {
          "output_type": "execute_result",
          "data": {
            "text/plain": [
              "array([[ 8,  7,  2,  8,  9],\n",
              "       [ 7,  4,  4,  7,  4],\n",
              "       [ 7,  6,  2, 10,  7],\n",
              "       [ 5,  9, 10,  7,  4],\n",
              "       [ 9, 10,  1,  5,  6]])"
            ]
          },
          "metadata": {},
          "execution_count": 22
        }
      ]
    },
    {
      "cell_type": "code",
      "source": [
        "arr[arr > 5]"
      ],
      "metadata": {
        "colab": {
          "base_uri": "https://localhost:8080/"
        },
        "id": "-t3kgf8ybXKA",
        "outputId": "649afc73-fdf8-460f-e2d4-4c68ac308ae7"
      },
      "execution_count": 24,
      "outputs": [
        {
          "output_type": "execute_result",
          "data": {
            "text/plain": [
              "array([ 8,  7,  8,  9,  7,  7,  7,  6, 10,  7,  9, 10,  7,  9, 10,  6])"
            ]
          },
          "metadata": {},
          "execution_count": 24
        }
      ]
    },
    {
      "cell_type": "markdown",
      "source": [
        "#### 1.2) Filter Elements that are Greater than 5 and Even"
      ],
      "metadata": {
        "id": "yajhtDM-b93n"
      }
    },
    {
      "cell_type": "code",
      "source": [
        "arr[(arr > 5) & (arr % 2 == 0)]"
      ],
      "metadata": {
        "colab": {
          "base_uri": "https://localhost:8080/"
        },
        "id": "HtIvgqA-b3TI",
        "outputId": "2ca0110e-6c2b-4ad2-cc28-92510f023b68"
      },
      "execution_count": 29,
      "outputs": [
        {
          "output_type": "execute_result",
          "data": {
            "text/plain": [
              "array([ 8,  8,  6, 10, 10, 10,  6])"
            ]
          },
          "metadata": {},
          "execution_count": 29
        }
      ]
    },
    {
      "cell_type": "markdown",
      "source": [
        "### Aggregate Functions"
      ],
      "metadata": {
        "id": "cWOtYUofdpyM"
      }
    },
    {
      "cell_type": "code",
      "source": [
        "arr = np.array([1, 2, 3, 4, 5])\n",
        "arr\n",
        "\n",
        "print('Sum: ' , arr.sum())\n",
        "print('Mean: ' , arr.mean())\n",
        "print('Max: ' , arr.max())\n",
        "print('Min: ' , arr.min())\n",
        "print('Std: ' , arr.std())\n",
        "print('Var: ' , arr.var())"
      ],
      "metadata": {
        "colab": {
          "base_uri": "https://localhost:8080/"
        },
        "id": "yXM3iuTJcEUn",
        "outputId": "97007c22-a506-410c-8386-03b26bb2293b"
      },
      "execution_count": 32,
      "outputs": [
        {
          "output_type": "stream",
          "name": "stdout",
          "text": [
            "Sum:  15\n",
            "Mean:  3.0\n",
            "Max:  5\n",
            "Min:  1\n",
            "Std:  1.4142135623730951\n",
            "Var:  2.0\n"
          ]
        }
      ]
    },
    {
      "cell_type": "markdown",
      "source": [
        "## Descriptive Statistics with NumPy"
      ],
      "metadata": {
        "id": "NCqqm9V6fG2w"
      }
    },
    {
      "cell_type": "code",
      "source": [
        "arr = np.random.randint(1,101,size=100)\n",
        "arr\n",
        "\n",
        "mean = np.mean(arr)\n",
        "median = np.median(arr)\n",
        "mode = np.bincount(arr).argmax()\n",
        "max = np.max(arr)\n",
        "min = np.min(arr)\n",
        "std = np.std(arr)\n",
        "var = np.var(arr)\n",
        "\n",
        "q1 = np.percentile(arr, 25)\n",
        "q2 = np.percentile(arr, 50)\n",
        "q3 = np.percentile(arr, 75)\n",
        "\n",
        "iqr = q3 - q1\n",
        "skewness = np.mean((arr - mean)**3) / (np.std(arr)**3)\n",
        "kurtosis = np.mean((arr - mean)**4) / (np.std(arr)**4)\n",
        "\n",
        "print('Mean: ' , mean)\n",
        "print('Median: ' , median)\n",
        "print('Mode: ' , mode)\n",
        "print('Max: ' , max)\n",
        "print('Min: ' , min)\n",
        "print('Std: ' , std)\n",
        "print('Var: ' , var)\n",
        "print('-'*20)\n",
        "print('Q1: ' , q1)\n",
        "print('Q2: ' , q2)\n",
        "print('Q3: ' , q3)\n",
        "print('IQR: ' , iqr)\n",
        "print('-'*20)\n",
        "print('Skewness: ' , skewness)\n",
        "print('Kurtosis: ' , kurtosis)"
      ],
      "metadata": {
        "colab": {
          "base_uri": "https://localhost:8080/"
        },
        "id": "NCsViLF-fNkf",
        "outputId": "95c2e2b6-ec40-4abc-a359-d5f704570b4f"
      },
      "execution_count": 38,
      "outputs": [
        {
          "output_type": "stream",
          "name": "stdout",
          "text": [
            "Mean:  52.03\n",
            "Median:  53.5\n",
            "Mode:  18\n",
            "Max:  100\n",
            "Min:  1\n",
            "Std:  29.006363095017612\n",
            "Var:  841.3690999999998\n",
            "--------------------\n",
            "Q1:  23.0\n",
            "Q2:  53.5\n",
            "Q3:  75.25\n",
            "IQR:  52.25\n",
            "--------------------\n",
            "Skewness:  -0.0335796480813424\n",
            "Kurtosis:  1.7332244199119022\n"
          ]
        }
      ]
    },
    {
      "cell_type": "markdown",
      "source": [
        "## Sorting and Searching"
      ],
      "metadata": {
        "id": "WKoifaP6g17t"
      }
    },
    {
      "cell_type": "markdown",
      "source": [
        "### 1.Searching"
      ],
      "metadata": {
        "id": "LPJS53jWg-x-"
      }
    },
    {
      "cell_type": "code",
      "source": [
        "arr = np.array([1, 2, 3, 4, 5,7,12,13,8,4,15,4])\n",
        "\n",
        "# Linear Search\n",
        "index = np.where(arr == 4)[0]\n",
        "print(index)\n",
        "\n",
        "# Binary Search\n",
        "index = np.searchsorted(arr, 4)\n",
        "print(index)"
      ],
      "metadata": {
        "colab": {
          "base_uri": "https://localhost:8080/"
        },
        "id": "g9RuuNDCfmUH",
        "outputId": "eddc936b-dfc4-45ef-d90c-904587a5767c"
      },
      "execution_count": 46,
      "outputs": [
        {
          "output_type": "stream",
          "name": "stdout",
          "text": [
            "[ 3  9 11]\n",
            "3\n"
          ]
        }
      ]
    },
    {
      "cell_type": "markdown",
      "source": [
        "### 2.Sorting"
      ],
      "metadata": {
        "id": "rTj9tWt1iPBN"
      }
    },
    {
      "cell_type": "code",
      "source": [
        "arr = np.array([1, 2, 3, 4, 5,7,12,13,8,4,15,4])\n",
        "\n",
        "# Quick Sort\n",
        "sorted_arr = np.sort(arr)\n",
        "print(sorted_arr)\n",
        "\n",
        "# Merge Sort\n",
        "sorted_arr = np.sort(arr, kind='mergesort')\n",
        "print(sorted_arr)\n",
        "\n",
        "# Heap Sort\n",
        "sorted_arr = np.sort(arr, kind='heapsort')\n",
        "print(sorted_arr)"
      ],
      "metadata": {
        "colab": {
          "base_uri": "https://localhost:8080/"
        },
        "id": "P0LjtS3_hitr",
        "outputId": "09411ecb-54ea-4835-cca1-6e660384e7bb"
      },
      "execution_count": 49,
      "outputs": [
        {
          "output_type": "stream",
          "name": "stdout",
          "text": [
            "[ 1  2  3  4  4  4  5  7  8 12 13 15]\n",
            "[ 1  2  3  4  4  4  5  7  8 12 13 15]\n",
            "[ 1  2  3  4  4  4  5  7  8 12 13 15]\n"
          ]
        }
      ]
    },
    {
      "cell_type": "markdown",
      "source": [
        "## Data Cleaning With NumPy"
      ],
      "metadata": {
        "id": "fFTPThO8mLXu"
      }
    },
    {
      "cell_type": "markdown",
      "source": [
        "### 1. Masking with Boolean Arrays"
      ],
      "metadata": {
        "id": "Ng5CECFqmRsQ"
      }
    },
    {
      "cell_type": "code",
      "source": [
        "arr = np.array([1,2,np.nan, 4,5,np.nan])\n",
        "\n",
        "print(np.isnan(arr))\n",
        "print(arr[np.isnan(arr)])\n",
        "print(arr[~np.isnan(arr)])"
      ],
      "metadata": {
        "colab": {
          "base_uri": "https://localhost:8080/"
        },
        "id": "_uy3dl_zmPQ9",
        "outputId": "47312fce-b4fa-475e-96df-84e7b9cea97e"
      },
      "execution_count": 50,
      "outputs": [
        {
          "output_type": "stream",
          "name": "stdout",
          "text": [
            "[False False  True False False  True]\n",
            "[nan nan]\n",
            "[1. 2. 4. 5.]\n"
          ]
        }
      ]
    },
    {
      "cell_type": "markdown",
      "source": [
        "### 2. Replacing Outliers with specific value"
      ],
      "metadata": {
        "id": "nMF7twLCmmJh"
      }
    },
    {
      "cell_type": "code",
      "source": [
        "arr = np.array([1,2,3,4,5,6,7,8,9,10])\n",
        "\n",
        "arr[arr > 7] = 7\n",
        "arr[arr < 3] = 3\n",
        "\n",
        "print(arr)"
      ],
      "metadata": {
        "colab": {
          "base_uri": "https://localhost:8080/"
        },
        "id": "iFjuY39XmkGe",
        "outputId": "4aa81775-57f8-420b-cd2f-eb5af43edf49"
      },
      "execution_count": 51,
      "outputs": [
        {
          "output_type": "stream",
          "name": "stdout",
          "text": [
            "[3 3 3 4 5 6 7 7 7 7]\n"
          ]
        }
      ]
    },
    {
      "cell_type": "markdown",
      "source": [
        "### 3. Removing the Duplicates"
      ],
      "metadata": {
        "id": "j_w2uZZXm0_p"
      }
    },
    {
      "cell_type": "code",
      "source": [
        "arr = np.array([1,2,3,4,5,6,7,8,9,10,1,2,3])\n",
        "\n",
        "print(np.unique(arr))\n",
        "print(set(arr))\n",
        "print(list(set(arr)))"
      ],
      "metadata": {
        "colab": {
          "base_uri": "https://localhost:8080/"
        },
        "id": "tE-DcmMmmzi7",
        "outputId": "e0b9d17f-6be0-4d8c-85cd-cab742c93174"
      },
      "execution_count": 53,
      "outputs": [
        {
          "output_type": "stream",
          "name": "stdout",
          "text": [
            "[ 1  2  3  4  5  6  7  8  9 10]\n",
            "{1, 2, 3, 4, 5, 6, 7, 8, 9, 10}\n",
            "[1, 2, 3, 4, 5, 6, 7, 8, 9, 10]\n"
          ]
        }
      ]
    },
    {
      "cell_type": "markdown",
      "source": [
        "### 4. Categorical Data to One Hot Encoding"
      ],
      "metadata": {
        "id": "ES2FZnOxnAMl"
      }
    },
    {
      "cell_type": "code",
      "source": [
        "# 'A', 'B', 'C', 'D', 'E\n",
        "# 'A' = [1, 0, 0, 0, 0]\n",
        "# 'B' = [0, 1, 0, 0, 0]\n",
        "# 'C' = [0, 0, 1, 0, 0]\n",
        "# 'D' = [0, 0, 0, 1, 0]\n",
        "# 'E' = [0, 0, 0, 0, 1]\n",
        "\n",
        "categorical_arr = np.array(['A', 'B', 'C', 'D', 'E',])\n",
        "numerical_arr = np.array([0,1,2,3,4])\n",
        "\n",
        "one_hot_arr = np.eye(5)[numerical_arr]\n",
        "print(one_hot_arr)\n"
      ],
      "metadata": {
        "colab": {
          "base_uri": "https://localhost:8080/"
        },
        "id": "jOPp5hUnm8mQ",
        "outputId": "1fb24b61-ded3-41df-86da-b8c5e8093b0c"
      },
      "execution_count": 60,
      "outputs": [
        {
          "output_type": "stream",
          "name": "stdout",
          "text": [
            "[[1. 0. 0. 0. 0.]\n",
            " [0. 1. 0. 0. 0.]\n",
            " [0. 0. 1. 0. 0.]\n",
            " [0. 0. 0. 1. 0.]\n",
            " [0. 0. 0. 0. 1.]]\n"
          ]
        }
      ]
    },
    {
      "cell_type": "markdown",
      "source": [
        "### 5.Data Normalization"
      ],
      "metadata": {
        "id": "BjkiPgL3oTy2"
      }
    },
    {
      "cell_type": "code",
      "source": [
        "# salary,age,work_exp\n",
        "\n",
        "# Salary (10000-1000000)\n",
        "# Age (18-60)\n",
        "# Work_exp (0-30)\n",
        "# Normalization is used to scale the data between 0 and 1 for faster computation\n",
        "\n",
        "arr = np.array([1,2,3,4,5])\n",
        "\n",
        "arr = (arr - np.min(arr)) / (np.max(arr) - np.min(arr))\n",
        "print(arr)\n",
        "\n",
        "# 0/4 = 0\n",
        "# 1/4 = 0.25\n",
        "# 2/4 = 0.5\n",
        "# 3/4 = 0.75\n",
        "# 4/4 = 1"
      ],
      "metadata": {
        "colab": {
          "base_uri": "https://localhost:8080/"
        },
        "id": "YIc6_SB2nU-S",
        "outputId": "c776c895-f142-4e4d-8efe-a45421fae62a"
      },
      "execution_count": 62,
      "outputs": [
        {
          "output_type": "stream",
          "name": "stdout",
          "text": [
            "[0.   0.25 0.5  0.75 1.  ]\n"
          ]
        }
      ]
    }
  ]
}