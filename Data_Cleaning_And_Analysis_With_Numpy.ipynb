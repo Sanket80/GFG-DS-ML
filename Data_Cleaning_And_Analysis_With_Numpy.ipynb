{
  "nbformat": 4,
  "nbformat_minor": 0,
  "metadata": {
    "colab": {
      "provenance": [],
      "authorship_tag": "ABX9TyPVBFU/2hLdzY7Pdb5s+RQg",
      "include_colab_link": true
    },
    "kernelspec": {
      "name": "python3",
      "display_name": "Python 3"
    },
    "language_info": {
      "name": "python"
    }
  },
  "cells": [
    {
      "cell_type": "markdown",
      "metadata": {
        "id": "view-in-github",
        "colab_type": "text"
      },
      "source": [
        "<a href=\"https://colab.research.google.com/github/Sanket80/GFG-DS-ML/blob/main/Data_Cleaning_And_Analysis_With_Numpy.ipynb\" target=\"_parent\"><img src=\"https://colab.research.google.com/assets/colab-badge.svg\" alt=\"Open In Colab\"/></a>"
      ]
    },
    {
      "cell_type": "code",
      "execution_count": 1,
      "metadata": {
        "id": "1ITHkEtGXzJm"
      },
      "outputs": [],
      "source": [
        "import numpy as np"
      ]
    },
    {
      "cell_type": "markdown",
      "source": [
        "## Dealing with Null Values"
      ],
      "metadata": {
        "id": "wf5FHVpkYEA2"
      }
    },
    {
      "cell_type": "markdown",
      "source": [
        "### 1. None to np.nan"
      ],
      "metadata": {
        "id": "AVTYWQ0CYK_e"
      }
    },
    {
      "cell_type": "code",
      "source": [
        "arr = np.array([1, 2, None, 4, 5,None])\n",
        "arr\n",
        "\n",
        "arr[arr == None] = np.nan\n",
        "arr"
      ],
      "metadata": {
        "colab": {
          "base_uri": "https://localhost:8080/"
        },
        "id": "uTHSOqk5YDQB",
        "outputId": "45fe3f1e-2643-4952-a4b8-6302024c2bfb"
      },
      "execution_count": 3,
      "outputs": [
        {
          "output_type": "execute_result",
          "data": {
            "text/plain": [
              "array([1, 2, nan, 4, 5, nan], dtype=object)"
            ]
          },
          "metadata": {},
          "execution_count": 3
        }
      ]
    },
    {
      "cell_type": "markdown",
      "source": [
        "### 2. Checking the Null Values"
      ],
      "metadata": {
        "id": "wWOCUVy-Y90l"
      }
    },
    {
      "cell_type": "code",
      "source": [
        "arr = np.array([1, 2, np.nan, 4, 5,np.nan])\n",
        "arr\n",
        "\n",
        "arr[np.isnan(arr)]"
      ],
      "metadata": {
        "colab": {
          "base_uri": "https://localhost:8080/"
        },
        "id": "j6fCBERUYTB2",
        "outputId": "b1982021-5175-4227-9559-0789c8b456ff"
      },
      "execution_count": 6,
      "outputs": [
        {
          "output_type": "execute_result",
          "data": {
            "text/plain": [
              "array([nan, nan])"
            ]
          },
          "metadata": {},
          "execution_count": 6
        }
      ]
    },
    {
      "cell_type": "markdown",
      "source": [
        "### 3. Removing the Null Values"
      ],
      "metadata": {
        "id": "mTUhJsDHZO3U"
      }
    },
    {
      "cell_type": "code",
      "source": [
        "arr = np.array([1, 2, np.nan, 4, 5,np.nan])\n",
        "arr\n",
        "\n",
        "arr[~np.isnan(arr)]"
      ],
      "metadata": {
        "colab": {
          "base_uri": "https://localhost:8080/"
        },
        "id": "mtnBOjBwZE39",
        "outputId": "f3d7a188-95f4-4808-ef64-39a2e0959a7d"
      },
      "execution_count": 7,
      "outputs": [
        {
          "output_type": "execute_result",
          "data": {
            "text/plain": [
              "array([1., 2., 4., 5.])"
            ]
          },
          "metadata": {},
          "execution_count": 7
        }
      ]
    },
    {
      "cell_type": "markdown",
      "source": [
        "### 4. Filling Null with Fixed Values"
      ],
      "metadata": {
        "id": "OguPcOqCZg1p"
      }
    },
    {
      "cell_type": "code",
      "source": [
        "arr = np.array([1, 2, np.nan, 4, 5,np.nan])\n",
        "arr\n",
        "\n",
        "arr[np.isnan(arr)] = 0\n",
        "print(arr)"
      ],
      "metadata": {
        "colab": {
          "base_uri": "https://localhost:8080/"
        },
        "id": "NzY8_su1Zdvu",
        "outputId": "12c727f5-fbac-4630-800d-d5d7b2322a92"
      },
      "execution_count": 10,
      "outputs": [
        {
          "output_type": "stream",
          "name": "stdout",
          "text": [
            "[1. 2. 0. 4. 5. 0.]\n"
          ]
        }
      ]
    },
    {
      "cell_type": "markdown",
      "source": [
        "### 5. Filling the null with Average"
      ],
      "metadata": {
        "id": "tGNUYcAEZvL9"
      }
    },
    {
      "cell_type": "code",
      "source": [
        "arr = np.array([1, 2, np.nan, 4, 5,np.nan])\n",
        "arr\n",
        "\n",
        "arr[np.isnan(arr)] = np.nanmean(arr)\n",
        "print(arr)"
      ],
      "metadata": {
        "colab": {
          "base_uri": "https://localhost:8080/"
        },
        "id": "eteh9AZ6Zp5A",
        "outputId": "0bd04dbb-b459-4d58-b567-32ac392b914f"
      },
      "execution_count": 12,
      "outputs": [
        {
          "output_type": "stream",
          "name": "stdout",
          "text": [
            "[1. 2. 3. 4. 5. 3.]\n"
          ]
        }
      ]
    }
  ]
}