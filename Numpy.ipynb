{
  "nbformat": 4,
  "nbformat_minor": 0,
  "metadata": {
    "colab": {
      "provenance": [],
      "collapsed_sections": [
        "lI5qdrFhAmtG",
        "HC_FiGgU9Gbs",
        "M6xLRUrf9t9u",
        "CCOdrMWs9-sX",
        "N_-L9jym-sMa",
        "79LH004FB75b",
        "BFkG9grNGjVw",
        "hIjCgdhGIaSy"
      ],
      "authorship_tag": "ABX9TyMlFxMbIPf+1gqIj41nH8et",
      "include_colab_link": true
    },
    "kernelspec": {
      "name": "python3",
      "display_name": "Python 3"
    },
    "language_info": {
      "name": "python"
    }
  },
  "cells": [
    {
      "cell_type": "markdown",
      "metadata": {
        "id": "view-in-github",
        "colab_type": "text"
      },
      "source": [
        "<a href=\"https://colab.research.google.com/github/Sanket80/GFG-DS-ML/blob/main/Numpy.ipynb\" target=\"_parent\"><img src=\"https://colab.research.google.com/assets/colab-badge.svg\" alt=\"Open In Colab\"/></a>"
      ]
    },
    {
      "cell_type": "markdown",
      "source": [
        "## Arrays Vs Lists"
      ],
      "metadata": {
        "id": "lI5qdrFhAmtG"
      }
    },
    {
      "cell_type": "code",
      "execution_count": 3,
      "metadata": {
        "id": "asZ06xj_8pA_"
      },
      "outputs": [],
      "source": [
        "import numpy as np"
      ]
    },
    {
      "cell_type": "markdown",
      "source": [
        "### Arrays vs List Comparison"
      ],
      "metadata": {
        "id": "HC_FiGgU9Gbs"
      }
    },
    {
      "cell_type": "code",
      "source": [
        "lst = [1,2,3]\n",
        "print(lst)\n",
        "\n",
        "arr = np.array([1,2,3])\n",
        "print(arr)\n",
        "\n",
        "print(type(lst))\n",
        "print(type(arr))\n",
        "print('--------------------')\n",
        "\n",
        "print(arr == lst)\n",
        "print(arr.tolist() == lst)\n",
        "print(\"---------------------\")"
      ],
      "metadata": {
        "colab": {
          "base_uri": "https://localhost:8080/"
        },
        "id": "Q_A1ZyqS8ud0",
        "outputId": "b3e6d2be-61cd-453c-972a-5354eea006bf"
      },
      "execution_count": null,
      "outputs": [
        {
          "output_type": "stream",
          "name": "stdout",
          "text": [
            "[1, 2, 3]\n",
            "[1 2 3]\n",
            "<class 'list'>\n",
            "<class 'numpy.ndarray'>\n",
            "--------------------\n",
            "[ True  True  True]\n",
            "True\n",
            "---------------------\n"
          ]
        }
      ]
    },
    {
      "cell_type": "markdown",
      "source": [
        "### Adding Elements in an Array vs List"
      ],
      "metadata": {
        "id": "M6xLRUrf9t9u"
      }
    },
    {
      "cell_type": "code",
      "source": [
        "lst = [1,2,3]\n",
        "arr = np.array([1,2,3])\n",
        "\n",
        "lst.append(4)\n",
        "print(lst)\n",
        "\n",
        "arr = np.append(arr, 4)\n",
        "print(arr)"
      ],
      "metadata": {
        "colab": {
          "base_uri": "https://localhost:8080/"
        },
        "id": "FIYSJ1OU9K8S",
        "outputId": "dd213492-127a-4b19-e8df-29ee4b895eaf"
      },
      "execution_count": null,
      "outputs": [
        {
          "output_type": "stream",
          "name": "stdout",
          "text": [
            "[1, 2, 3, 4]\n",
            "[1 2 3 4]\n"
          ]
        }
      ]
    },
    {
      "cell_type": "markdown",
      "source": [
        "### Removing Elements in an Array vs List"
      ],
      "metadata": {
        "id": "CCOdrMWs9-sX"
      }
    },
    {
      "cell_type": "code",
      "source": [
        "lst = [1,2,3]\n",
        "arr = np.array([1,2,3])\n",
        "\n",
        "lst.pop()\n",
        "# del lst[-2] , from end\n",
        "print(lst)\n",
        "\n",
        "arr = np.delete(arr, -1)    # element from end , -1\n",
        "print(arr)"
      ],
      "metadata": {
        "colab": {
          "base_uri": "https://localhost:8080/"
        },
        "id": "tKCXDkFs9-AO",
        "outputId": "3738840c-48ff-4082-f078-508e5fb29c90"
      },
      "execution_count": null,
      "outputs": [
        {
          "output_type": "stream",
          "name": "stdout",
          "text": [
            "[1, 2]\n",
            "[1 2]\n"
          ]
        }
      ]
    },
    {
      "cell_type": "markdown",
      "source": [
        "### Updating Elements in an Array vs List"
      ],
      "metadata": {
        "id": "N_-L9jym-sMa"
      }
    },
    {
      "cell_type": "code",
      "source": [
        "lst = [1,2,3]\n",
        "arr = np.array([1,2,3])\n",
        "\n",
        "lst[1] = 4\n",
        "print(lst)\n",
        "\n",
        "arr[1] = 4\n",
        "print(arr)"
      ],
      "metadata": {
        "colab": {
          "base_uri": "https://localhost:8080/"
        },
        "id": "rgAuA7P098iU",
        "outputId": "b4f80652-2372-4bb4-83cc-251c24f11e6c"
      },
      "execution_count": null,
      "outputs": [
        {
          "output_type": "stream",
          "name": "stdout",
          "text": [
            "[1, 4, 3]\n",
            "[1 4 3]\n"
          ]
        }
      ]
    },
    {
      "cell_type": "markdown",
      "source": [
        "### Note: Execution of Arrays is much faster than list"
      ],
      "metadata": {
        "id": "W-ptm1Qv_4bs"
      }
    },
    {
      "cell_type": "markdown",
      "source": [
        "## Converting Data Structures to Arrays"
      ],
      "metadata": {
        "id": "79LH004FB75b"
      }
    },
    {
      "cell_type": "markdown",
      "source": [
        "### 1. Converting a tuple to an array"
      ],
      "metadata": {
        "id": "C245Gm-YCCAF"
      }
    },
    {
      "cell_type": "code",
      "source": [
        "tup = (1,2,3)\n",
        "arr = np.array(tup)\n",
        "print(arr)"
      ],
      "metadata": {
        "colab": {
          "base_uri": "https://localhost:8080/"
        },
        "id": "zivA7Fzo-zzH",
        "outputId": "fae60866-6340-48e7-f2f9-55fd87fd8f71"
      },
      "execution_count": null,
      "outputs": [
        {
          "output_type": "stream",
          "name": "stdout",
          "text": [
            "[1 2 3]\n"
          ]
        }
      ]
    },
    {
      "cell_type": "markdown",
      "source": [
        "### 2. Converting a list to an array"
      ],
      "metadata": {
        "id": "--jhRNbVCLdO"
      }
    },
    {
      "cell_type": "code",
      "source": [
        "lst = [1,2,3]\n",
        "arr = np.array(lst)\n",
        "print(arr)"
      ],
      "metadata": {
        "colab": {
          "base_uri": "https://localhost:8080/"
        },
        "id": "rtPCg8JFCKGP",
        "outputId": "5b819cb2-36fa-4a92-c630-0bd09aed34b1"
      },
      "execution_count": null,
      "outputs": [
        {
          "output_type": "stream",
          "name": "stdout",
          "text": [
            "[1 2 3]\n"
          ]
        }
      ]
    },
    {
      "cell_type": "markdown",
      "source": [
        "### 3. Converting a Dictionary to an array"
      ],
      "metadata": {
        "id": "3hI6TFFrCVUP"
      }
    },
    {
      "cell_type": "code",
      "source": [
        "dct = {1: 'apple', 2: 'ball', 3: 'cat'}\n",
        "arr = np.array(list(dct.items()))\n",
        "print(arr)\n",
        "\n",
        "arr_k = np.array(dct.keys())\n",
        "arr_v = np.array(dct.values())\n",
        "print(arr_k)\n",
        "print(arr_v)"
      ],
      "metadata": {
        "colab": {
          "base_uri": "https://localhost:8080/"
        },
        "id": "JsPnPZxhCS_S",
        "outputId": "e3b080f8-7efe-4904-826c-8c828d24620a"
      },
      "execution_count": null,
      "outputs": [
        {
          "output_type": "stream",
          "name": "stdout",
          "text": [
            "[['1' 'apple']\n",
            " ['2' 'ball']\n",
            " ['3' 'cat']]\n",
            "dict_keys([1, 2, 3])\n",
            "dict_values(['apple', 'ball', 'cat'])\n"
          ]
        }
      ]
    },
    {
      "cell_type": "markdown",
      "source": [
        "### 4. Converting a Set to an array"
      ],
      "metadata": {
        "id": "2lCGb55nC37m"
      }
    },
    {
      "cell_type": "code",
      "source": [
        "st = {1,2,3}\n",
        "arr = np.array(list(st))\n",
        "print(arr)"
      ],
      "metadata": {
        "colab": {
          "base_uri": "https://localhost:8080/"
        },
        "id": "XXHwLsa8Cd9K",
        "outputId": "405fac2b-be71-46a4-c4b4-d7b771a0077d"
      },
      "execution_count": null,
      "outputs": [
        {
          "output_type": "stream",
          "name": "stdout",
          "text": [
            "[1 2 3]\n"
          ]
        }
      ]
    },
    {
      "cell_type": "markdown",
      "source": [
        "### 5. Converting a String to an array"
      ],
      "metadata": {
        "id": "xBfMAqhmDJwg"
      }
    },
    {
      "cell_type": "code",
      "source": [
        "str1 = 'Hello World'\n",
        "arr = np.array(list(str))\n",
        "print(arr)"
      ],
      "metadata": {
        "colab": {
          "base_uri": "https://localhost:8080/"
        },
        "id": "mkTbdHYbDAVi",
        "outputId": "7e51f949-354b-4460-c6b0-6db2e3f5eb3b"
      },
      "execution_count": null,
      "outputs": [
        {
          "output_type": "stream",
          "name": "stdout",
          "text": [
            "['H' 'e' 'l' 'l' 'o' ' ' 'W' 'o' 'r' 'l' 'd']\n"
          ]
        }
      ]
    },
    {
      "cell_type": "markdown",
      "source": [
        "### Conversion to other DataTypes"
      ],
      "metadata": {
        "id": "mFrPardYDjmX"
      }
    },
    {
      "cell_type": "code",
      "source": [
        "arr = np.array([1,2,3,4,5])\n",
        "print(arr)\n",
        "\n",
        "arr_f = arr.astype('float')\n",
        "print(arr_f)\n",
        "\n",
        "arr_s = arr.astype('str')\n",
        "print(arr_s)"
      ],
      "metadata": {
        "colab": {
          "base_uri": "https://localhost:8080/"
        },
        "id": "I59wOvYVDQgj",
        "outputId": "12228884-8db1-45d6-b173-e233c2cc2939"
      },
      "execution_count": null,
      "outputs": [
        {
          "output_type": "stream",
          "name": "stdout",
          "text": [
            "[1 2 3 4 5]\n",
            "[1. 2. 3. 4. 5.]\n",
            "['1' '2' '3' '4' '5']\n"
          ]
        }
      ]
    },
    {
      "cell_type": "markdown",
      "source": [
        "## Finding details of an Array"
      ],
      "metadata": {
        "id": "BFkG9grNGjVw"
      }
    },
    {
      "cell_type": "markdown",
      "source": [
        "### Size of An Array"
      ],
      "metadata": {
        "id": "fP_LnZkyHTCL"
      }
    },
    {
      "cell_type": "code",
      "source": [
        "arr = np.array([1,2,3,4,5])\n",
        "print(arr.size)"
      ],
      "metadata": {
        "colab": {
          "base_uri": "https://localhost:8080/"
        },
        "id": "Rj-flx0iHSqH",
        "outputId": "9a7b9ba9-abe9-4d19-80b9-f2f8ccb51a22"
      },
      "execution_count": null,
      "outputs": [
        {
          "output_type": "stream",
          "name": "stdout",
          "text": [
            "5\n"
          ]
        }
      ]
    },
    {
      "cell_type": "markdown",
      "source": [
        "### Print shape of an Array"
      ],
      "metadata": {
        "id": "DUA1XImpGoq4"
      }
    },
    {
      "cell_type": "code",
      "source": [
        "arr = np.array([1,2])\n",
        "print(arr.shape)\n",
        "\n",
        "arr = np.array([[1,2,3], [4,5,6]])  # will print first rows, then the columns\n",
        "print(arr.shape)"
      ],
      "metadata": {
        "colab": {
          "base_uri": "https://localhost:8080/"
        },
        "id": "lj2lzTphDyRs",
        "outputId": "201bbfa3-2ed6-4ad9-ddfc-89ae15174bc7"
      },
      "execution_count": null,
      "outputs": [
        {
          "output_type": "stream",
          "name": "stdout",
          "text": [
            "(2,)\n",
            "(2, 3)\n"
          ]
        }
      ]
    },
    {
      "cell_type": "markdown",
      "source": [
        "### Print Dimensions of an Array"
      ],
      "metadata": {
        "id": "fgkDzry8G8VU"
      }
    },
    {
      "cell_type": "code",
      "source": [
        "arr = np.array([1,2])\n",
        "print(arr.ndim)\n",
        "\n",
        "arr = np.array([[1,2,3], [4,5,6]])\n",
        "print(arr.ndim)"
      ],
      "metadata": {
        "colab": {
          "base_uri": "https://localhost:8080/"
        },
        "id": "1K2fP24IGzn7",
        "outputId": "276b3d08-d54a-4380-deca-39c76e65b0c4"
      },
      "execution_count": null,
      "outputs": [
        {
          "output_type": "stream",
          "name": "stdout",
          "text": [
            "1\n",
            "2\n"
          ]
        }
      ]
    },
    {
      "cell_type": "markdown",
      "source": [
        "### Print Data Type of an Array"
      ],
      "metadata": {
        "id": "O4ffZpDmHFEM"
      }
    },
    {
      "cell_type": "code",
      "source": [
        "print(arr.dtype)"
      ],
      "metadata": {
        "colab": {
          "base_uri": "https://localhost:8080/"
        },
        "id": "xEzhU4PzHBwC",
        "outputId": "db97f52e-453b-47af-81af-ed4c94a2d121"
      },
      "execution_count": null,
      "outputs": [
        {
          "output_type": "stream",
          "name": "stdout",
          "text": [
            "int64\n"
          ]
        }
      ]
    },
    {
      "cell_type": "markdown",
      "source": [
        "## Copy"
      ],
      "metadata": {
        "id": "hIjCgdhGIaSy"
      }
    },
    {
      "cell_type": "markdown",
      "source": [
        "### 1. Copy func with Lists"
      ],
      "metadata": {
        "id": "p3nzsIUUIfTE"
      }
    },
    {
      "cell_type": "code",
      "source": [
        "lst = [1,2,3,4,5]\n",
        "lst1 = lst\n",
        "print(lst)\n",
        "print(lst1)\n",
        "print('-'*20)\n",
        "\n",
        "lst[0] = 10\n",
        "print(lst)\n",
        "print(lst1)\n",
        "print('-'*20)\n",
        "\n",
        "lst1[1] = 20\n",
        "print(lst)\n",
        "print(lst1)\n",
        "# As they both are pointing to the same thing, so changes made will also reflected to another\n",
        "\n",
        "print('*'*20)\n",
        "lst = [1,2,3,4,5]\n",
        "lst2 = lst.copy()\n",
        "print(lst)\n",
        "print(lst2)\n",
        "print('-'*20)\n",
        "\n",
        "lst[0] = 10\n",
        "print(lst)\n",
        "print(lst2)"
      ],
      "metadata": {
        "colab": {
          "base_uri": "https://localhost:8080/"
        },
        "id": "VuKV7wcxHJ0C",
        "outputId": "fcc371dd-9b84-4ac7-c115-3590614a74bb"
      },
      "execution_count": null,
      "outputs": [
        {
          "output_type": "stream",
          "name": "stdout",
          "text": [
            "[1, 2, 3, 4, 5]\n",
            "[1, 2, 3, 4, 5]\n",
            "--------------------\n",
            "[10, 2, 3, 4, 5]\n",
            "[10, 2, 3, 4, 5]\n",
            "--------------------\n",
            "[10, 20, 3, 4, 5]\n",
            "[10, 20, 3, 4, 5]\n",
            "********************\n",
            "[1, 2, 3, 4, 5]\n",
            "[1, 2, 3, 4, 5]\n",
            "--------------------\n",
            "[10, 2, 3, 4, 5]\n",
            "[1, 2, 3, 4, 5]\n"
          ]
        }
      ]
    },
    {
      "cell_type": "markdown",
      "source": [
        "### 2. Copy Func with Arrays"
      ],
      "metadata": {
        "id": "79WzITGrJzkS"
      }
    },
    {
      "cell_type": "code",
      "source": [
        "# Similar things goes with np Arrays\n",
        "arr = np.array([1,2,3,4,5])\n",
        "arr1 = arr\n",
        "print(arr)\n",
        "print(arr1)\n",
        "print('-'*20)\n",
        "\n",
        "arr[0] = 10\n",
        "print(arr)\n",
        "print(arr1)\n",
        "print('-'*20)\n",
        "\n",
        "arr1[1] = 20\n",
        "print(arr)\n",
        "print(arr1)\n",
        "print('*'*20)\n",
        "\n",
        "arr = np.array([1,2,3,4,5])\n",
        "arr2 = arr.copy()\n",
        "print(arr)\n",
        "print(arr2)\n",
        "print('-'*20)\n",
        "\n",
        "arr[0] = 10\n",
        "print(arr)\n",
        "print(arr2)\n",
        "print('-'*20)"
      ],
      "metadata": {
        "colab": {
          "base_uri": "https://localhost:8080/"
        },
        "id": "TpMIedz4IruU",
        "outputId": "44108729-705d-402b-9743-daee0ad560d2"
      },
      "execution_count": null,
      "outputs": [
        {
          "output_type": "stream",
          "name": "stdout",
          "text": [
            "[1 2 3 4 5]\n",
            "[1 2 3 4 5]\n",
            "--------------------\n",
            "[10  2  3  4  5]\n",
            "[10  2  3  4  5]\n",
            "--------------------\n",
            "[10 20  3  4  5]\n",
            "[10 20  3  4  5]\n",
            "********************\n",
            "[1 2 3 4 5]\n",
            "[1 2 3 4 5]\n",
            "--------------------\n",
            "[10  2  3  4  5]\n",
            "[1 2 3 4 5]\n",
            "--------------------\n"
          ]
        }
      ]
    },
    {
      "cell_type": "markdown",
      "source": [
        "## Creating Fixed Size Arrays"
      ],
      "metadata": {
        "id": "4J1utC3l_SGC"
      }
    },
    {
      "cell_type": "markdown",
      "source": [
        "### 1. Zeros"
      ],
      "metadata": {
        "id": "1BN9xtM8_hwu"
      }
    },
    {
      "cell_type": "code",
      "source": [
        "np.zeros(5)"
      ],
      "metadata": {
        "colab": {
          "base_uri": "https://localhost:8080/"
        },
        "id": "Bi8SsaYx_hEf",
        "outputId": "25f4d481-ef4a-4446-d0e2-6abba8d5442a"
      },
      "execution_count": null,
      "outputs": [
        {
          "output_type": "execute_result",
          "data": {
            "text/plain": [
              "array([0., 0., 0., 0., 0.])"
            ]
          },
          "metadata": {},
          "execution_count": 4
        }
      ]
    },
    {
      "cell_type": "markdown",
      "source": [
        "### 2. Ones"
      ],
      "metadata": {
        "id": "3Bz2COxT_tQC"
      }
    },
    {
      "cell_type": "code",
      "source": [
        "np.ones((2,3), dtype='int')"
      ],
      "metadata": {
        "colab": {
          "base_uri": "https://localhost:8080/"
        },
        "id": "Kl77AFO4_mGg",
        "outputId": "73e36bbf-a62c-4846-8481-7ae95fb3ca70"
      },
      "execution_count": null,
      "outputs": [
        {
          "output_type": "execute_result",
          "data": {
            "text/plain": [
              "array([[1, 1, 1],\n",
              "       [1, 1, 1]])"
            ]
          },
          "metadata": {},
          "execution_count": 5
        }
      ]
    },
    {
      "cell_type": "markdown",
      "source": [
        "### 3.Eye"
      ],
      "metadata": {
        "id": "rS_CtczCABGa"
      }
    },
    {
      "cell_type": "code",
      "source": [
        "np.eye(4)  # Identity Matrix, will have 1 diagonal elements 1"
      ],
      "metadata": {
        "colab": {
          "base_uri": "https://localhost:8080/"
        },
        "id": "fzL2imJe_z5u",
        "outputId": "9c499ec3-0789-4ac6-e84c-f04f6fc784bf"
      },
      "execution_count": null,
      "outputs": [
        {
          "output_type": "execute_result",
          "data": {
            "text/plain": [
              "array([[1., 0., 0., 0.],\n",
              "       [0., 1., 0., 0.],\n",
              "       [0., 0., 1., 0.],\n",
              "       [0., 0., 0., 1.]])"
            ]
          },
          "metadata": {},
          "execution_count": 6
        }
      ]
    },
    {
      "cell_type": "markdown",
      "source": [
        "### 4. Random Number Generator"
      ],
      "metadata": {
        "id": "jC-cFJ_JAirz"
      }
    },
    {
      "cell_type": "code",
      "source": [
        "print(np.random.rand(2))\n",
        "print('-'*20)\n",
        "print(np.random.rand(2,3))\n",
        "print('-'*20)\n",
        "print(np.random.rand(2,3,4))"
      ],
      "metadata": {
        "colab": {
          "base_uri": "https://localhost:8080/"
        },
        "id": "8ck_2UqNAE9H",
        "outputId": "df566d6a-927c-4685-b101-eb9155a22d5a"
      },
      "execution_count": null,
      "outputs": [
        {
          "output_type": "stream",
          "name": "stdout",
          "text": [
            "[0.64435608 0.0295419 ]\n",
            "--------------------\n",
            "[[0.22502116 0.8132002  0.81272265]\n",
            " [0.38126877 0.10121952 0.71915034]]\n",
            "--------------------\n",
            "[[[0.24260891 0.84505375 0.2978488  0.64953427]\n",
            "  [0.83511369 0.31878936 0.06523171 0.46769768]\n",
            "  [0.61455763 0.51738386 0.16642548 0.49892547]]\n",
            "\n",
            " [[0.25938028 0.6010766  0.33933217 0.18452029]\n",
            "  [0.04312933 0.00979723 0.86858923 0.40122117]\n",
            "  [0.21200306 0.64226811 0.57988547 0.51985046]]]\n"
          ]
        }
      ]
    },
    {
      "cell_type": "code",
      "source": [
        "np.random.randint(1,100,5)"
      ],
      "metadata": {
        "colab": {
          "base_uri": "https://localhost:8080/"
        },
        "id": "fn_ytgbnAq7X",
        "outputId": "74183b3a-97c4-4ec1-f7eb-9a325609c02f"
      },
      "execution_count": null,
      "outputs": [
        {
          "output_type": "execute_result",
          "data": {
            "text/plain": [
              "array([ 6, 27, 95, 65, 50])"
            ]
          },
          "metadata": {},
          "execution_count": 10
        }
      ]
    },
    {
      "cell_type": "markdown",
      "source": [
        "### 5. Seed"
      ],
      "metadata": {
        "id": "zqSnk6A7C536"
      }
    },
    {
      "cell_type": "code",
      "source": [
        "np.random.seed(10)\n",
        "np.random.randint(1,100,5)"
      ],
      "metadata": {
        "colab": {
          "base_uri": "https://localhost:8080/"
        },
        "id": "V0VYg4qEA5wW",
        "outputId": "459286d6-0cd1-494d-9ca3-669a532fa7ff"
      },
      "execution_count": null,
      "outputs": [
        {
          "output_type": "execute_result",
          "data": {
            "text/plain": [
              "array([10, 16, 65, 29, 90])"
            ]
          },
          "metadata": {},
          "execution_count": 11
        }
      ]
    },
    {
      "cell_type": "code",
      "source": [
        "np.random.seed(10)\n",
        "np.random.randint(1,100,5)"
      ],
      "metadata": {
        "colab": {
          "base_uri": "https://localhost:8080/"
        },
        "id": "AlsWgVFhC-Xn",
        "outputId": "a616e411-9343-4523-b402-05ca5547d77f"
      },
      "execution_count": null,
      "outputs": [
        {
          "output_type": "execute_result",
          "data": {
            "text/plain": [
              "array([10, 16, 65, 29, 90])"
            ]
          },
          "metadata": {},
          "execution_count": 12
        }
      ]
    },
    {
      "cell_type": "markdown",
      "source": [
        "## Range, Arange, linspace, logspace\n",
        "\n"
      ],
      "metadata": {
        "id": "j0BwM-9hDUPv"
      }
    },
    {
      "cell_type": "markdown",
      "source": [
        "### 1. range in Lists"
      ],
      "metadata": {
        "id": "zlDY82Jm3qEb"
      }
    },
    {
      "cell_type": "code",
      "source": [
        "r = range(10)\n",
        "print(r)\n",
        "\n",
        "r = range(0,10,2)\n",
        "print(r)\n",
        "\n",
        "r = range(10,0,-2)\n",
        "print(r)\n",
        "\n",
        "print(6 in r)\n",
        "print(list(r))"
      ],
      "metadata": {
        "id": "Hkw7CTqjDBKX",
        "colab": {
          "base_uri": "https://localhost:8080/"
        },
        "outputId": "29006a63-a965-4f22-ced9-678f48386b14"
      },
      "execution_count": null,
      "outputs": [
        {
          "output_type": "stream",
          "name": "stdout",
          "text": [
            "range(0, 10)\n",
            "range(0, 10, 2)\n",
            "range(10, 0, -2)\n",
            "True\n",
            "[10, 8, 6, 4, 2]\n"
          ]
        }
      ]
    },
    {
      "cell_type": "markdown",
      "source": [
        "### 2. arange in Numpy"
      ],
      "metadata": {
        "id": "uS3jJG-v3747"
      }
    },
    {
      "cell_type": "code",
      "source": [
        "arr = np.arange(10)\n",
        "print(arr)\n",
        "\n",
        "arr = np.arange(0,10,2)\n",
        "print(arr)\n",
        "\n",
        "arr = np.arange(10,0,-0.5)\n",
        "print(arr)"
      ],
      "metadata": {
        "colab": {
          "base_uri": "https://localhost:8080/"
        },
        "id": "sPlWvz4L35X7",
        "outputId": "b40b6003-e42d-4ad8-eddc-24e4f6d3bcaf"
      },
      "execution_count": null,
      "outputs": [
        {
          "output_type": "stream",
          "name": "stdout",
          "text": [
            "[0 1 2 3 4 5 6 7 8 9]\n",
            "[0 2 4 6 8]\n",
            "[10.   9.5  9.   8.5  8.   7.5  7.   6.5  6.   5.5  5.   4.5  4.   3.5\n",
            "  3.   2.5  2.   1.5  1.   0.5]\n"
          ]
        }
      ]
    },
    {
      "cell_type": "markdown",
      "source": [
        "### 3. linspace"
      ],
      "metadata": {
        "id": "syNViD0c4MGf"
      }
    },
    {
      "cell_type": "code",
      "source": [
        "arr = np.arange(0,10,5)\n",
        "print(arr)\n",
        "\n",
        "l = np.linspace(0,10,5)\n",
        "print(l)\n",
        "# linspace will create the nos specified with equal dist btw them\n",
        "\n",
        "l,s = np.linspace(0,10,5, retstep= True)    # will give us the step\n",
        "print(l)\n",
        "print(s)"
      ],
      "metadata": {
        "colab": {
          "base_uri": "https://localhost:8080/"
        },
        "id": "AgTfwm8g4LGg",
        "outputId": "0235027f-09d0-4193-f28b-a593a2be8920"
      },
      "execution_count": null,
      "outputs": [
        {
          "output_type": "stream",
          "name": "stdout",
          "text": [
            "[0 5]\n",
            "[ 0.   2.5  5.   7.5 10. ]\n",
            "[ 0.   2.5  5.   7.5 10. ]\n",
            "2.5\n"
          ]
        }
      ]
    },
    {
      "cell_type": "markdown",
      "source": [
        "### 4. logspace"
      ],
      "metadata": {
        "id": "OYeJPGdc5w4J"
      }
    },
    {
      "cell_type": "code",
      "source": [
        "arr = np.logspace(0,10,5)\n",
        "print(arr)\n",
        "\n",
        "arr = np.logspace(0,10,5, base=2)\n",
        "print(arr)"
      ],
      "metadata": {
        "colab": {
          "base_uri": "https://localhost:8080/"
        },
        "id": "hRPY8irE4f1q",
        "outputId": "c4a12945-51e7-40f4-e741-dd91ad9999a1"
      },
      "execution_count": null,
      "outputs": [
        {
          "output_type": "stream",
          "name": "stdout",
          "text": [
            "[1.00000000e+00 3.16227766e+02 1.00000000e+05 3.16227766e+07\n",
            " 1.00000000e+10]\n",
            "[1.00000000e+00 5.65685425e+00 3.20000000e+01 1.81019336e+02\n",
            " 1.02400000e+03]\n"
          ]
        }
      ]
    },
    {
      "cell_type": "markdown",
      "source": [
        "## Array Manipulation Essentials: Reshaping, Flattening, Splitting & Merging"
      ],
      "metadata": {
        "id": "SRzYe9hp6ZlH"
      }
    },
    {
      "cell_type": "markdown",
      "source": [
        "### 1. Flattening"
      ],
      "metadata": {
        "id": "KNBunF926mns"
      }
    },
    {
      "cell_type": "code",
      "source": [
        "arr = np.array([[1,2,3], [4,5,6], [7,8,9]])\n",
        "print(arr)\n",
        "\n",
        "arr = arr.flatten()\n",
        "print(arr)"
      ],
      "metadata": {
        "colab": {
          "base_uri": "https://localhost:8080/"
        },
        "id": "z2-USrjF51qp",
        "outputId": "dbbc88f1-5b61-47d1-abba-47a061e919cd"
      },
      "execution_count": null,
      "outputs": [
        {
          "output_type": "stream",
          "name": "stdout",
          "text": [
            "[[1 2 3]\n",
            " [4 5 6]\n",
            " [7 8 9]]\n",
            "[1 2 3 4 5 6 7 8 9]\n"
          ]
        }
      ]
    },
    {
      "cell_type": "markdown",
      "source": [
        "### 2. Reshaping"
      ],
      "metadata": {
        "id": "lhIddTtc66pO"
      }
    },
    {
      "cell_type": "code",
      "source": [
        "arr = np.array([1,2,3,4,5,6,7,8,9])\n",
        "print(arr)\n",
        "\n",
        "arr = arr.reshape(3,3)\n",
        "print(arr)\n",
        "print('-'*20)\n",
        "\n",
        "arr = np.array([[1,2,3], [4,5,6]])\n",
        "print(arr)\n",
        "\n",
        "arr = arr.reshape(3,2)   # actual values and reshapen values must be same\n",
        "print(arr)"
      ],
      "metadata": {
        "colab": {
          "base_uri": "https://localhost:8080/"
        },
        "id": "XUA5FdKD6syt",
        "outputId": "c8e07226-f43b-49ca-f1c2-22387173f0a3"
      },
      "execution_count": null,
      "outputs": [
        {
          "output_type": "stream",
          "name": "stdout",
          "text": [
            "[1 2 3 4 5 6 7 8 9]\n",
            "[[1 2 3]\n",
            " [4 5 6]\n",
            " [7 8 9]]\n",
            "--------------------\n",
            "[[1 2 3]\n",
            " [4 5 6]]\n",
            "[[1 2]\n",
            " [3 4]\n",
            " [5 6]]\n"
          ]
        }
      ]
    },
    {
      "cell_type": "markdown",
      "source": [
        "### 3. Splitting"
      ],
      "metadata": {
        "id": "AG87jjTf7rQ4"
      }
    },
    {
      "cell_type": "markdown",
      "source": [
        "- vsplit"
      ],
      "metadata": {
        "id": "wjpjSVV57uSL"
      }
    },
    {
      "cell_type": "code",
      "source": [
        "arr = np.array([[1,2,3], [4,5,6], [7,8,9], [10,11,12]])\n",
        "print(arr)\n",
        "print('-'*20)\n",
        "arr1, arr2 = np.vsplit(arr, 2)\n",
        "print(arr1)\n",
        "print(arr2)"
      ],
      "metadata": {
        "colab": {
          "base_uri": "https://localhost:8080/"
        },
        "id": "WvbkrPxf7FZ7",
        "outputId": "6d56951b-123c-4447-8a2a-9c578f549eee"
      },
      "execution_count": null,
      "outputs": [
        {
          "output_type": "stream",
          "name": "stdout",
          "text": [
            "[[ 1  2  3]\n",
            " [ 4  5  6]\n",
            " [ 7  8  9]\n",
            " [10 11 12]]\n",
            "--------------------\n",
            "[[1 2 3]\n",
            " [4 5 6]]\n",
            "[[ 7  8  9]\n",
            " [10 11 12]]\n"
          ]
        }
      ]
    },
    {
      "cell_type": "markdown",
      "source": [
        "- hsplit"
      ],
      "metadata": {
        "id": "ewEZVtFy8coG"
      }
    },
    {
      "cell_type": "code",
      "source": [
        "arr = np.array([[1,2,3,4], [5,6,7,8], [9,10,11,12]])\n",
        "print(arr)\n",
        "print('-'*20)\n",
        "arr1, arr2 = np.hsplit(arr, 2)\n",
        "print(arr1)\n",
        "print(arr2)\n"
      ],
      "metadata": {
        "colab": {
          "base_uri": "https://localhost:8080/"
        },
        "id": "lOlMdgcl8RYZ",
        "outputId": "d31f247d-0fb3-484b-a8ca-433e5d58724c"
      },
      "execution_count": null,
      "outputs": [
        {
          "output_type": "stream",
          "name": "stdout",
          "text": [
            "[[ 1  2  3  4]\n",
            " [ 5  6  7  8]\n",
            " [ 9 10 11 12]]\n",
            "--------------------\n",
            "[[ 1  2]\n",
            " [ 5  6]\n",
            " [ 9 10]]\n",
            "[[ 3  4]\n",
            " [ 7  8]\n",
            " [11 12]]\n"
          ]
        }
      ]
    },
    {
      "cell_type": "markdown",
      "source": [
        "- split"
      ],
      "metadata": {
        "id": "K32YnTHN9K08"
      }
    },
    {
      "cell_type": "code",
      "source": [
        "arr = np.array([[1,2,3,4], [5,6,7,8], [9,10,11,12]])\n",
        "print(arr)\n",
        "print('-'*20)\n",
        "\n",
        "arr1, arr2 = np.split(arr, 2, axis=1)  # axis = 0 -> vertical , axis = 1  -> horizontal\n",
        "print(arr1)\n",
        "print(arr2)"
      ],
      "metadata": {
        "colab": {
          "base_uri": "https://localhost:8080/"
        },
        "id": "4EmDN6kq8o1V",
        "outputId": "6a120f35-eda7-41a9-f2b5-0cf573f49efb"
      },
      "execution_count": null,
      "outputs": [
        {
          "output_type": "stream",
          "name": "stdout",
          "text": [
            "[[ 1  2  3  4]\n",
            " [ 5  6  7  8]\n",
            " [ 9 10 11 12]]\n",
            "--------------------\n",
            "[[ 1  2]\n",
            " [ 5  6]\n",
            " [ 9 10]]\n",
            "[[ 3  4]\n",
            " [ 7  8]\n",
            " [11 12]]\n"
          ]
        }
      ]
    },
    {
      "cell_type": "markdown",
      "source": [
        "### 4. Merging"
      ],
      "metadata": {
        "id": "Q2zWONCE9YE_"
      }
    },
    {
      "cell_type": "code",
      "source": [
        "arr1 = np.array([1,2,3,4])\n",
        "arr2 = np.array([5,6,7,8])\n",
        "arr3 = np.array([9,10,11,12])\n",
        "print(arr1)\n",
        "print(arr2)\n",
        "print('-'*20)\n",
        "\n",
        "arr = np.concatenate((arr1, arr2, arr3))\n",
        "print(arr)"
      ],
      "metadata": {
        "colab": {
          "base_uri": "https://localhost:8080/"
        },
        "id": "HTcDgGs69QYx",
        "outputId": "5e6ba595-ef28-4309-bb8c-ddabe8687cad"
      },
      "execution_count": null,
      "outputs": [
        {
          "output_type": "stream",
          "name": "stdout",
          "text": [
            "[1 2 3 4]\n",
            "[5 6 7 8]\n",
            "--------------------\n",
            "[ 1  2  3  4  5  6  7  8  9 10 11 12]\n"
          ]
        }
      ]
    },
    {
      "cell_type": "markdown",
      "source": [
        "- hstack"
      ],
      "metadata": {
        "id": "NaAYTQAC9vy8"
      }
    },
    {
      "cell_type": "code",
      "source": [
        "arr1 = np.array([1,2,3,4])\n",
        "arr2 = np.array([5,6,7,8])\n",
        "print(arr1)\n",
        "print(arr2)\n",
        "print('-'*20)\n",
        "\n",
        "arr = np.hstack((arr1, arr2))\n",
        "print(arr)"
      ],
      "metadata": {
        "colab": {
          "base_uri": "https://localhost:8080/"
        },
        "id": "ZD3p-1-X9qO_",
        "outputId": "1a71b22c-6775-4831-f820-8d79cedef3f6"
      },
      "execution_count": null,
      "outputs": [
        {
          "output_type": "stream",
          "name": "stdout",
          "text": [
            "[1 2 3 4]\n",
            "[5 6 7 8]\n",
            "--------------------\n",
            "[1 2 3 4 5 6 7 8]\n"
          ]
        }
      ]
    },
    {
      "cell_type": "markdown",
      "source": [
        "- vstack"
      ],
      "metadata": {
        "id": "sc2h7xcY90fw"
      }
    },
    {
      "cell_type": "code",
      "source": [
        "arr1 = np.array([1,2,3,4])\n",
        "arr2 = np.array([5,6,7,8])\n",
        "print(arr1)\n",
        "print(arr2)\n",
        "print('-'*20)\n",
        "\n",
        "arr = np.vstack((arr1, arr2))\n",
        "print(arr)"
      ],
      "metadata": {
        "colab": {
          "base_uri": "https://localhost:8080/"
        },
        "id": "dEI2gvvH9zb3",
        "outputId": "c04db8d1-79e0-42a2-a8a9-bb382bfda809"
      },
      "execution_count": null,
      "outputs": [
        {
          "output_type": "stream",
          "name": "stdout",
          "text": [
            "[1 2 3 4]\n",
            "[5 6 7 8]\n",
            "--------------------\n",
            "[[1 2 3 4]\n",
            " [5 6 7 8]]\n"
          ]
        }
      ]
    },
    {
      "cell_type": "markdown",
      "source": [
        "- stack"
      ],
      "metadata": {
        "id": "g2of-xuJ-DVx"
      }
    },
    {
      "cell_type": "code",
      "source": [
        "arr1 = np.array([1,2,3,4])\n",
        "arr2 = np.array([5,6,7,8])\n",
        "print(arr1)\n",
        "print(arr2)\n",
        "print('-'*20)\n",
        "\n",
        "arr = np.stack((arr1, arr2), axis=1)\n",
        "print(arr)\n"
      ],
      "metadata": {
        "colab": {
          "base_uri": "https://localhost:8080/"
        },
        "id": "EXpA9yl994p6",
        "outputId": "d610cb96-8084-419f-9c5f-9ef612e666bb"
      },
      "execution_count": null,
      "outputs": [
        {
          "output_type": "stream",
          "name": "stdout",
          "text": [
            "[1 2 3 4]\n",
            "[5 6 7 8]\n",
            "--------------------\n",
            "[[1 5]\n",
            " [2 6]\n",
            " [3 7]\n",
            " [4 8]]\n"
          ]
        }
      ]
    },
    {
      "cell_type": "markdown",
      "source": [
        "## Broadcasting for Efficient Calculations"
      ],
      "metadata": {
        "id": "6mfqpPWp_JE6"
      }
    },
    {
      "cell_type": "markdown",
      "source": [
        "### 1. Arithmetic"
      ],
      "metadata": {
        "id": "JYuoShQ8Xjb2"
      }
    },
    {
      "cell_type": "code",
      "source": [
        "a = np.array([1,2,3])\n",
        "b = np.array([[10,20,30], [40,50,60]])\n",
        "print(a)\n",
        "print(b)\n",
        "print('-'*20)\n",
        "\n",
        "print(a+5)\n",
        "print('-'*20)\n",
        "\n",
        "print(a+b)\n",
        "print('-'*20)\n",
        "\n",
        "print(a-b)\n",
        "print('-'*20)\n",
        "\n",
        "print(a*b)\n",
        "print('-'*20)\n",
        "\n",
        "print(a/b)"
      ],
      "metadata": {
        "colab": {
          "base_uri": "https://localhost:8080/"
        },
        "id": "Hu9Fe97b-LYB",
        "outputId": "8573f68d-fb43-43e6-d6a2-60049d7e7eb9"
      },
      "execution_count": null,
      "outputs": [
        {
          "output_type": "stream",
          "name": "stdout",
          "text": [
            "[1 2 3]\n",
            "[[10 20 30]\n",
            " [40 50 60]]\n",
            "--------------------\n",
            "[6 7 8]\n",
            "--------------------\n",
            "[[11 22 33]\n",
            " [41 52 63]]\n",
            "--------------------\n",
            "[[ -9 -18 -27]\n",
            " [-39 -48 -57]]\n",
            "--------------------\n",
            "[[ 10  40  90]\n",
            " [ 40 100 180]]\n",
            "--------------------\n",
            "[[0.1   0.1   0.1  ]\n",
            " [0.025 0.04  0.05 ]]\n"
          ]
        }
      ]
    },
    {
      "cell_type": "markdown",
      "source": [
        "### 2. Comparison"
      ],
      "metadata": {
        "id": "NWl0gmcyY4OM"
      }
    },
    {
      "cell_type": "code",
      "source": [
        "a = np.array([1,2,3])\n",
        "b = np.array([[10,20,30], [40,50,60]])\n",
        "print(a)\n",
        "print(b)\n",
        "print('-'*20)\n",
        "\n",
        "# >\n",
        "print(a>b)\n",
        "print('-'*20)\n",
        "\n",
        "# >=\n",
        "print(a>=b)\n",
        "print('-'*20)\n",
        "\n",
        "# <\n",
        "print(a<b)\n",
        "print('-'*20)\n",
        "\n",
        "# <=\n",
        "print(a<=b)\n",
        "print('-'*20)\n",
        "\n",
        "# ==\n",
        "print(a==b)\n",
        "print('-'*20)\n",
        "\n",
        "# !=\n",
        "print(a!=b)"
      ],
      "metadata": {
        "colab": {
          "base_uri": "https://localhost:8080/"
        },
        "id": "NHxzwPq0X9vA",
        "outputId": "9bd8bb1b-d86e-4d69-f7b5-f27cc2cb6304"
      },
      "execution_count": null,
      "outputs": [
        {
          "output_type": "stream",
          "name": "stdout",
          "text": [
            "[1 2 3]\n",
            "[[10 20 30]\n",
            " [40 50 60]]\n",
            "--------------------\n",
            "[[False False False]\n",
            " [False False False]]\n",
            "--------------------\n",
            "[[False False False]\n",
            " [False False False]]\n",
            "--------------------\n",
            "[[ True  True  True]\n",
            " [ True  True  True]]\n",
            "--------------------\n",
            "[[ True  True  True]\n",
            " [ True  True  True]]\n",
            "--------------------\n",
            "[[False False False]\n",
            " [False False False]]\n",
            "--------------------\n",
            "[[ True  True  True]\n",
            " [ True  True  True]]\n"
          ]
        }
      ]
    },
    {
      "cell_type": "markdown",
      "source": [
        "### 3. Bitwise"
      ],
      "metadata": {
        "id": "kR5me392Z9fo"
      }
    },
    {
      "cell_type": "code",
      "source": [
        "a = np.array([1,2,3])\n",
        "b = np.array([[10,20,30], [40,50,60]])\n",
        "print(a)\n",
        "print(b)\n",
        "print('-'*20)\n",
        "\n",
        "print(np.bitwise_and(a,b))\n",
        "print('-'*20)\n",
        "\n",
        "print(np.bitwise_or(a,b))\n",
        "print('-'*20)\n",
        "\n",
        "print(np.bitwise_xor(a,b))\n",
        "print('-'*20)\n",
        "\n",
        "print(np.bitwise_not(a,b))\n",
        "print('-'*20)\n",
        "\n",
        "print(np.left_shift(a,b))\n",
        "print('-'*20)\n",
        "\n",
        "print(np.right_shift(a,b))"
      ],
      "metadata": {
        "colab": {
          "base_uri": "https://localhost:8080/"
        },
        "id": "TvZM2EZRZHZA",
        "outputId": "afe5e8ec-a91c-4f5f-a6ef-e4bd1948288b"
      },
      "execution_count": null,
      "outputs": [
        {
          "output_type": "stream",
          "name": "stdout",
          "text": [
            "[1 2 3]\n",
            "[[10 20 30]\n",
            " [40 50 60]]\n",
            "--------------------\n",
            "[[0 0 2]\n",
            " [0 2 0]]\n",
            "--------------------\n",
            "[[11 22 31]\n",
            " [41 50 63]]\n",
            "--------------------\n",
            "[[11 22 29]\n",
            " [41 48 63]]\n",
            "--------------------\n",
            "[[-2 -3 -4]\n",
            " [-2 -3 -4]]\n",
            "--------------------\n",
            "[[0 0 0]\n",
            " [0 0 0]]\n",
            "--------------------\n",
            "[[0 0 0]\n",
            " [0 0 0]]\n"
          ]
        }
      ]
    },
    {
      "cell_type": "markdown",
      "source": [
        "## Where Clause with Arrays"
      ],
      "metadata": {
        "id": "ZXlF-WiBbJ9m"
      }
    },
    {
      "cell_type": "markdown",
      "source": [
        "### 1. 1D Array"
      ],
      "metadata": {
        "id": "iCYc22lUbN6P"
      }
    },
    {
      "cell_type": "code",
      "source": [
        "np.random.seed(18)\n",
        "arr = np.random.randint(1,100,10)\n",
        "print(arr)\n",
        "print('-'*20)\n",
        "\n",
        "print(np.where(arr>50))   # will return indexes\n",
        "print(arr[np.where(arr>50)])\n",
        "print('-'*20)\n",
        "\n",
        "print(np.where(arr>50, 'greater than 50', 'less than 50'))"
      ],
      "metadata": {
        "colab": {
          "base_uri": "https://localhost:8080/"
        },
        "id": "Agu5Ro1WaT14",
        "outputId": "5aa801f2-6f0f-44f6-fe16-218b54ced3c9"
      },
      "execution_count": null,
      "outputs": [
        {
          "output_type": "stream",
          "name": "stdout",
          "text": [
            "[43 20 70 63 50 47 67  9 25 99]\n",
            "--------------------\n",
            "(array([2, 3, 6, 9]),)\n",
            "[70 63 67 99]\n",
            "--------------------\n",
            "['less than 50' 'less than 50' 'greater than 50' 'greater than 50'\n",
            " 'less than 50' 'less than 50' 'greater than 50' 'less than 50'\n",
            " 'less than 50' 'greater than 50']\n"
          ]
        }
      ]
    },
    {
      "cell_type": "markdown",
      "source": [
        "### 2D Array"
      ],
      "metadata": {
        "id": "CvUWB9jjcTiz"
      }
    },
    {
      "cell_type": "code",
      "source": [
        "np.random.seed(18)\n",
        "arr = np.random.randint(1,100,size=(3,3))\n",
        "print(arr)\n",
        "print('-'*20)\n",
        "\n",
        "indices = np.where(arr>50)\n",
        "print(indices)\n",
        "print(arr[indices])\n",
        "print('-'*20)"
      ],
      "metadata": {
        "colab": {
          "base_uri": "https://localhost:8080/"
        },
        "id": "Bq3Wu28-bYNR",
        "outputId": "1b8a913b-5b39-4e63-a101-66ac3439451f"
      },
      "execution_count": null,
      "outputs": [
        {
          "output_type": "stream",
          "name": "stdout",
          "text": [
            "[[43 20 70]\n",
            " [63 50 47]\n",
            " [67  9 25]]\n",
            "--------------------\n",
            "(array([0, 1, 2]), array([2, 0, 0]))\n",
            "[70 63 67]\n",
            "--------------------\n"
          ]
        }
      ]
    },
    {
      "cell_type": "markdown",
      "source": [
        "## Linear Algebra With Numpy"
      ],
      "metadata": {
        "id": "DmXMj88btScK"
      }
    },
    {
      "cell_type": "markdown",
      "source": [
        "### 1. Dot Product"
      ],
      "metadata": {
        "id": "Yjm_mtbMtWdF"
      }
    },
    {
      "cell_type": "code",
      "source": [
        "a = np.array([1,2,3])\n",
        "b = np.array([4,5,6])\n",
        "print(a)\n",
        "print(b)\n",
        "print('-'*20)\n",
        "\n",
        "print(np.dot(a,b))    # Need Same dimension only"
      ],
      "metadata": {
        "id": "CVt8ljeKceCB",
        "colab": {
          "base_uri": "https://localhost:8080/"
        },
        "outputId": "8ed85d2f-482e-4424-87ae-a243561eae99"
      },
      "execution_count": 4,
      "outputs": [
        {
          "output_type": "stream",
          "name": "stdout",
          "text": [
            "[1 2 3]\n",
            "[4 5 6]\n",
            "--------------------\n",
            "32\n"
          ]
        }
      ]
    },
    {
      "cell_type": "markdown",
      "source": [
        "### 2. Matrix Multiplication"
      ],
      "metadata": {
        "id": "KWhnT_ievJFa"
      }
    },
    {
      "cell_type": "code",
      "source": [
        "A = np.array([[1,2], [3,4]])\n",
        "B = np.array([[5,6], [7,8]])\n",
        "\n",
        "print(np.matmul(A,B))"
      ],
      "metadata": {
        "colab": {
          "base_uri": "https://localhost:8080/"
        },
        "id": "CWar5wQjtblO",
        "outputId": "26998d3d-2070-4183-8cad-159fb8221a41"
      },
      "execution_count": 7,
      "outputs": [
        {
          "output_type": "stream",
          "name": "stdout",
          "text": [
            "[[19 22]\n",
            " [43 50]]\n"
          ]
        }
      ]
    },
    {
      "cell_type": "markdown",
      "source": [
        "### 3. Determinant"
      ],
      "metadata": {
        "id": "XHvEjXgCwfzT"
      }
    },
    {
      "cell_type": "code",
      "source": [
        "a = np.array([[1,2], [3,4]])    # + - + for 3X3 Matrix\n",
        "\n",
        "print(np.linalg.det(a))"
      ],
      "metadata": {
        "colab": {
          "base_uri": "https://localhost:8080/"
        },
        "id": "07loTwU6vQvZ",
        "outputId": "d77d597d-b786-4ed7-df29-e87c29b2c20d"
      },
      "execution_count": 8,
      "outputs": [
        {
          "output_type": "stream",
          "name": "stdout",
          "text": [
            "-2.0000000000000004\n"
          ]
        }
      ]
    },
    {
      "cell_type": "markdown",
      "source": [
        "### 4. Transpose"
      ],
      "metadata": {
        "id": "-PUtN0S0wrFn"
      }
    },
    {
      "cell_type": "code",
      "source": [
        "a = np.array([[1,2], [3,4]])\n",
        "\n",
        "print(np.transpose(a))"
      ],
      "metadata": {
        "colab": {
          "base_uri": "https://localhost:8080/"
        },
        "id": "OAe8Gp4Pwoqv",
        "outputId": "64b14772-7fbd-49d8-b381-7be73bcd3bf6"
      },
      "execution_count": 9,
      "outputs": [
        {
          "output_type": "stream",
          "name": "stdout",
          "text": [
            "[[1 3]\n",
            " [2 4]]\n"
          ]
        }
      ]
    },
    {
      "cell_type": "markdown",
      "source": [
        "### 5. Inverse = A.A^-1 = I"
      ],
      "metadata": {
        "id": "_z8xHsNhxy0w"
      }
    },
    {
      "cell_type": "code",
      "source": [
        "a = np.array([[1,2], [3,4]])\n",
        "\n",
        "print(np.linalg.inv(a))"
      ],
      "metadata": {
        "colab": {
          "base_uri": "https://localhost:8080/"
        },
        "id": "IyLPPci5wuxm",
        "outputId": "1d40c72a-fa83-4818-e094-4e8316ea5078"
      },
      "execution_count": 10,
      "outputs": [
        {
          "output_type": "stream",
          "name": "stdout",
          "text": [
            "[[-2.   1. ]\n",
            " [ 1.5 -0.5]]\n"
          ]
        }
      ]
    },
    {
      "cell_type": "markdown",
      "source": [
        "### 6. System of Linear Equations"
      ],
      "metadata": {
        "id": "SCi3_K74z6t3"
      }
    },
    {
      "cell_type": "code",
      "source": [
        "# 1x1 + 2x2 + 3x3 = 10\n",
        "# 4x1 + 5x2 + 6x3 = 11\n",
        "# 7x1 + 8x2 + 10x3 = 12\n",
        "\n",
        "a = np.array([[1,2,3], [4,5,6], [7,8,10]])\n",
        "b = np.array([10,11,12])\n",
        "\n",
        "print(np.linalg.solve(a,b))"
      ],
      "metadata": {
        "colab": {
          "base_uri": "https://localhost:8080/"
        },
        "id": "b_Di5CTRx8H1",
        "outputId": "3d457c3d-f10c-49bc-a037-c840b65d2d20"
      },
      "execution_count": 11,
      "outputs": [
        {
          "output_type": "stream",
          "name": "stdout",
          "text": [
            "[-9.33333333e+00  9.66666667e+00  3.55271368e-15]\n"
          ]
        }
      ]
    },
    {
      "cell_type": "markdown",
      "source": [
        "### 7. Eigen Values and Eigen Vectors"
      ],
      "metadata": {
        "id": "oevKrhVv12T6"
      }
    },
    {
      "cell_type": "code",
      "source": [
        "# Eigen Values -> A-lambda*I, will get lambda values\n",
        "# Eigen Vectors -> A-lambda*I = 0\n",
        "\n",
        "a = np.array([[5,4], [1,2]])\n",
        "\n",
        "print(np.linalg.eig(a))\n",
        "print('-'*20)\n",
        "\n",
        "eigen_values, eigen_vectors = np.linalg.eig(a)\n",
        "print(eigen_values)\n",
        "print(eigen_vectors)"
      ],
      "metadata": {
        "colab": {
          "base_uri": "https://localhost:8080/"
        },
        "id": "pIpPNNrM0L_r",
        "outputId": "a7e129f4-899b-40c2-c165-f5137f70771f"
      },
      "execution_count": 13,
      "outputs": [
        {
          "output_type": "stream",
          "name": "stdout",
          "text": [
            "EigResult(eigenvalues=array([6., 1.]), eigenvectors=array([[ 0.9701425 , -0.70710678],\n",
            "       [ 0.24253563,  0.70710678]]))\n",
            "--------------------\n",
            "[6. 1.]\n",
            "[[ 0.9701425  -0.70710678]\n",
            " [ 0.24253563  0.70710678]]\n"
          ]
        }
      ]
    },
    {
      "cell_type": "markdown",
      "source": [
        "## Working With Files"
      ],
      "metadata": {
        "id": "8KnVuWKs7k97"
      }
    },
    {
      "cell_type": "markdown",
      "source": [
        "### Saving Data in Files"
      ],
      "metadata": {
        "id": "2Jfc_0lV5CoN"
      }
    },
    {
      "cell_type": "markdown",
      "source": [
        "- textfile"
      ],
      "metadata": {
        "id": "D0T6CQyr5Gp9"
      }
    },
    {
      "cell_type": "code",
      "source": [
        "arr = np.array([[1,2,3],[4,5,6]])\n",
        "np.savetxt('data.txt', arr)"
      ],
      "metadata": {
        "id": "T3JdLnge2SUr"
      },
      "execution_count": 15,
      "outputs": []
    },
    {
      "cell_type": "markdown",
      "source": [
        "- npy file"
      ],
      "metadata": {
        "id": "vGsoMAvs5gZb"
      }
    },
    {
      "cell_type": "code",
      "source": [
        "arr = np.array([[1,2,3],[4,5,6]])\n",
        "np.save('data.npy', arr)"
      ],
      "metadata": {
        "id": "Kn51wkZ65MW9"
      },
      "execution_count": 16,
      "outputs": []
    },
    {
      "cell_type": "markdown",
      "source": [
        "- csv file"
      ],
      "metadata": {
        "id": "RqCW10sj5pEn"
      }
    },
    {
      "cell_type": "code",
      "source": [
        "arr = np.array([[1,2,3],[4,5,6]])\n",
        "np.savetxt('data.csv', arr, header='a,b,c')"
      ],
      "metadata": {
        "id": "LBVYObGs5mI2"
      },
      "execution_count": 17,
      "outputs": []
    },
    {
      "cell_type": "markdown",
      "source": [
        "- json"
      ],
      "metadata": {
        "id": "FNT3oG406A7L"
      }
    },
    {
      "cell_type": "code",
      "source": [
        "# '{'data' : [1,2,3],[4,5,6]}'\n",
        "\n",
        "arr = np.array([[1,2,3],[4,5,6]])\n",
        "np.savetxt('data.json', arr, header = '{\"data\" : [', footer = ']}')"
      ],
      "metadata": {
        "id": "zLJfAejd5udE"
      },
      "execution_count": 19,
      "outputs": []
    },
    {
      "cell_type": "markdown",
      "source": [
        "### Reading Data From File"
      ],
      "metadata": {
        "id": "ZtZt0OpQ7sO-"
      }
    },
    {
      "cell_type": "markdown",
      "source": [
        "- txtfile"
      ],
      "metadata": {
        "id": "osu0Ih5J8CDK"
      }
    },
    {
      "cell_type": "code",
      "source": [
        "data = np.loadtxt('data.txt')\n",
        "print(data)"
      ],
      "metadata": {
        "colab": {
          "base_uri": "https://localhost:8080/"
        },
        "id": "hyoNwgxZ7IGY",
        "outputId": "365c1db1-0bcb-4890-a8e7-c01dfa7159bf"
      },
      "execution_count": 20,
      "outputs": [
        {
          "output_type": "stream",
          "name": "stdout",
          "text": [
            "[[1. 2. 3.]\n",
            " [4. 5. 6.]]\n"
          ]
        }
      ]
    },
    {
      "cell_type": "markdown",
      "source": [
        "- npy file"
      ],
      "metadata": {
        "id": "If7QGr4P8JCI"
      }
    },
    {
      "cell_type": "code",
      "source": [
        "data = np.load('data.npy')\n",
        "print(data)"
      ],
      "metadata": {
        "colab": {
          "base_uri": "https://localhost:8080/"
        },
        "id": "4EXNb8Oy8Gm8",
        "outputId": "9069fc04-18f2-402f-c866-e537b95b7180"
      },
      "execution_count": 21,
      "outputs": [
        {
          "output_type": "stream",
          "name": "stdout",
          "text": [
            "[[1 2 3]\n",
            " [4 5 6]]\n"
          ]
        }
      ]
    },
    {
      "cell_type": "markdown",
      "source": [
        "- csv"
      ],
      "metadata": {
        "id": "VqNsMGEw8Uaa"
      }
    },
    {
      "cell_type": "code",
      "source": [
        "data = np.loadtxt('data.csv', skiprows=1)\n",
        "print(data)"
      ],
      "metadata": {
        "colab": {
          "base_uri": "https://localhost:8080/"
        },
        "id": "3JEoT3ll8Rq8",
        "outputId": "0de61610-ff81-4a7e-c913-015d51cb41ba"
      },
      "execution_count": 23,
      "outputs": [
        {
          "output_type": "stream",
          "name": "stdout",
          "text": [
            "[4. 5. 6.]\n"
          ]
        }
      ]
    },
    {
      "cell_type": "markdown",
      "source": [
        "- json"
      ],
      "metadata": {
        "id": "n9lbRtsa8ix4"
      }
    },
    {
      "cell_type": "code",
      "source": [
        "data = np.loadtxt('data.json')\n",
        "print(data)"
      ],
      "metadata": {
        "colab": {
          "base_uri": "https://localhost:8080/"
        },
        "id": "EvSbudM68ZC2",
        "outputId": "37365edc-0871-4b09-990b-98b53a7cfe61"
      },
      "execution_count": 25,
      "outputs": [
        {
          "output_type": "stream",
          "name": "stdout",
          "text": [
            "[[1. 2. 3.]\n",
            " [4. 5. 6.]]\n"
          ]
        }
      ]
    },
    {
      "cell_type": "markdown",
      "source": [
        "### Writing Data to a File"
      ],
      "metadata": {
        "id": "GhnYxja09dr7"
      }
    },
    {
      "cell_type": "markdown",
      "source": [
        "- Replacing existing content"
      ],
      "metadata": {
        "id": "c_-1DYv19g9g"
      }
    },
    {
      "cell_type": "code",
      "source": [
        "data = np.array([[1,2,3],[4,5,6]])\n",
        "np.savetxt('data.txt', data)\n",
        "\n",
        "data = np.array([11,22,33])\n",
        "np.savetxt('data.txt', data)"
      ],
      "metadata": {
        "id": "FTE4k9aU8msE"
      },
      "execution_count": 30,
      "outputs": []
    },
    {
      "cell_type": "markdown",
      "source": [
        "- Appending the data on Existing File"
      ],
      "metadata": {
        "id": "MHigaD1P-NR-"
      }
    },
    {
      "cell_type": "code",
      "source": [
        "data = np.array([[1,2,3],[4,5,6]])\n",
        "np.savetxt('data.txt', data)\n",
        "\n",
        "data = np.load('data.txt')\n",
        "print(data)\n",
        "print('-'*20)\n",
        "data = np.array([11,22,33])\n",
        "np.savetxt('data.txt', data, fmt='%d', newline=' ')"
      ],
      "metadata": {
        "id": "E-G36s1T9q63"
      },
      "execution_count": null,
      "outputs": []
    }
  ]
}